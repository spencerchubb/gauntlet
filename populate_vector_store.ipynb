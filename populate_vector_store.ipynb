{
 "cells": [
  {
   "cell_type": "code",
   "execution_count": 1,
   "metadata": {},
   "outputs": [],
   "source": [
    "def parse_vtt(filename):\n",
    "    with open(f\"rag_data/{filename}\", \"r\") as f:\n",
    "        lines = f.readlines()\n",
    "    lines = [line.strip() for line in lines]\n",
    "    lines = [line for line in lines if line]\n",
    "    lines = [line for line in lines if not line.isdigit()] # Remove if it's an integer\n",
    "    lines = lines[1:] # First line is just \"WEBVTT\"\n",
    "    lines = lines[1::2] # Every other line is a timestamp\n",
    "    text = \"\\n\".join(lines)\n",
    "    return text\n",
    "# print(parse_vtt(\"GMT20250106-150124_Recording.cc.vtt\"))"
   ]
  },
  {
   "cell_type": "code",
   "execution_count": null,
   "metadata": {},
   "outputs": [],
   "source": [
    "import os\n",
    "\n",
    "chunk_size = 1000\n",
    "overlap = 200\n",
    "\n",
    "def chunk_text(text, chunk_size, overlap):\n",
    "    chunks = []\n",
    "    for i in range(0, len(text), chunk_size - overlap):\n",
    "        chunks.append(text[i:i+chunk_size])\n",
    "    return chunks\n",
    "\n",
    "all_chunks = []\n",
    "for filename in os.listdir(\"rag_data\"):\n",
    "    print(filename)\n",
    "    if filename.endswith(\".vtt\"):\n",
    "        text = parse_vtt(filename)\n",
    "    else:\n",
    "        with open(f\"rag_data/{filename}\", \"r\") as f:\n",
    "            text = f.read()\n",
    "    chunks = chunk_text(text, chunk_size, overlap)\n",
    "    all_chunks.extend(chunks)\n",
    "print(len(all_chunks))"
   ]
  },
  {
   "cell_type": "code",
   "execution_count": 5,
   "metadata": {},
   "outputs": [],
   "source": [
    "import os\n",
    "with open(\".env\", \"r\") as f:\n",
    "    lines = f.readlines()\n",
    "    for line in lines:\n",
    "        line = line.replace(\"export \", \"\")\n",
    "        key, value = line.split(\"=\")\n",
    "        os.environ[key] = value.strip()"
   ]
  },
  {
   "cell_type": "code",
   "execution_count": null,
   "metadata": {},
   "outputs": [],
   "source": [
    "from server.rag import add_documents, similarity_search\n",
    "\n",
    "add_documents(all_chunks)"
   ]
  },
  {
   "cell_type": "code",
   "execution_count": 7,
   "metadata": {},
   "outputs": [],
   "source": [
    "test_queries = [\n",
    "    \"What is the purpose of Alpha School?\",\n",
    "    \"Can gauntlet grads work remotely?\",\n",
    "    \"What do we need to do for the MVP?\",\n",
    "    \"What is brainlift?\",\n",
    "    \"When is the first MVP due?\",\n",
    "    \"How long is gauntlet?\",\n",
    "    \"When is the next gauntlet cohort?\",\n",
    "    \"What is the CCAT?\",\n",
    "    \"What do we have access to on AWS?\",\n",
    "    \"Who is going to teach us during gauntlet?\",\n",
    "]"
   ]
  },
  {
   "cell_type": "code",
   "execution_count": null,
   "metadata": {},
   "outputs": [],
   "source": [
    "query = test_queries[8]\n",
    "print(query)\n",
    "similarity_search(query)"
   ]
  }
 ],
 "metadata": {
  "kernelspec": {
   "display_name": ".venv",
   "language": "python",
   "name": "python3"
  },
  "language_info": {
   "codemirror_mode": {
    "name": "ipython",
    "version": 3
   },
   "file_extension": ".py",
   "mimetype": "text/x-python",
   "name": "python",
   "nbconvert_exporter": "python",
   "pygments_lexer": "ipython3",
   "version": "3.10.12"
  }
 },
 "nbformat": 4,
 "nbformat_minor": 2
}
